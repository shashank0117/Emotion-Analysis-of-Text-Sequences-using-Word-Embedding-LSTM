{
 "cells": [
  {
   "cell_type": "markdown",
   "metadata": {},
   "source": [
    "# Emotion Analysis\n",
    "This project performs emotion analysis on different statements to analyse the emotions attached with a statement."
   ]
  },
  {
   "cell_type": "markdown",
   "metadata": {},
   "source": [
    "# Step 1: Gathering Data\n",
    "\n",
    "We read annotated Text Data compiled from multiple sources"
   ]
  },
  {
   "cell_type": "code",
   "execution_count": 1,
   "metadata": {},
   "outputs": [
    {
     "data": {
      "text/plain": [
       "'\\n\\n1) Create an asset folder and save model checkpoints and trained model in there -> Done\\n2) Modify the training part and the Evaluation part according to MNIST Keras MLP file -> Done\\n3) Resample the data to make the distribution even -> Done\\n4) Compare MOdel evaluation with saved x_train,x_test,y_train,y_test with again generated x_train,x_test,y_train,y_test\\n\\n'"
      ]
     },
     "execution_count": 1,
     "metadata": {},
     "output_type": "execute_result"
    }
   ],
   "source": [
    "'''\n",
    "\n",
    "1) Create an asset folder and save model checkpoints and trained model in there -> Done\n",
    "2) Modify the training part and the Evaluation part according to MNIST Keras MLP file -> Done\n",
    "3) Resample the data to make the distribution even -> Done\n",
    "4) Compare MOdel evaluation with saved x_train,x_test,y_train,y_test with again generated x_train,x_test,y_train,y_test\n",
    "\n",
    "'''"
   ]
  },
  {
   "cell_type": "code",
   "execution_count": 5,
   "metadata": {},
   "outputs": [],
   "source": [
    "import pandas as pd\n",
    "import numpy as np\n",
    "import pickle\n",
    "import matplotlib.pyplot as plt\n",
    "import seaborn as sns\n"
   ]
  },
  {
   "cell_type": "code",
   "execution_count": 6,
   "metadata": {},
   "outputs": [
    {
     "data": {
      "text/plain": [
       "\"i feel like if i ask them to stay for me then i'm being the selfish one even though they are the ones making plans that they know i can't do with them\""
      ]
     },
     "execution_count": 6,
     "metadata": {},
     "output_type": "execute_result"
    }
   ],
   "source": [
    "df = pd.read_csv(\"datasets/master.csv\", encoding='utf-8')\n",
    "df['content'] = df['content'].astype(str)# Converts all the rows in the content column into string\n",
    "# df = df.reindex(np.random.permutation(df.index))\n",
    "df['content'][342119]"
   ]
  },
  {
   "cell_type": "code",
   "execution_count": 7,
   "metadata": {},
   "outputs": [
    {
     "data": {
      "text/html": [
       "<div>\n",
       "<style scoped>\n",
       "    .dataframe tbody tr th:only-of-type {\n",
       "        vertical-align: middle;\n",
       "    }\n",
       "\n",
       "    .dataframe tbody tr th {\n",
       "        vertical-align: top;\n",
       "    }\n",
       "\n",
       "    .dataframe thead th {\n",
       "        text-align: right;\n",
       "    }\n",
       "</style>\n",
       "<table border=\"1\" class=\"dataframe\">\n",
       "  <thead>\n",
       "    <tr style=\"text-align: right;\">\n",
       "      <th></th>\n",
       "      <th>emotion</th>\n",
       "      <th>content</th>\n",
       "    </tr>\n",
       "  </thead>\n",
       "  <tbody>\n",
       "    <tr>\n",
       "      <th>0</th>\n",
       "      <td>love</td>\n",
       "      <td>i had written or said but i always got the fee...</td>\n",
       "    </tr>\n",
       "    <tr>\n",
       "      <th>1</th>\n",
       "      <td>joy</td>\n",
       "      <td>i feel readers will be insanely entertained by</td>\n",
       "    </tr>\n",
       "    <tr>\n",
       "      <th>2</th>\n",
       "      <td>love</td>\n",
       "      <td>i got a good night s sleep last night i m over...</td>\n",
       "    </tr>\n",
       "    <tr>\n",
       "      <th>3</th>\n",
       "      <td>sad</td>\n",
       "      <td>i feel myself getting stressed out</td>\n",
       "    </tr>\n",
       "    <tr>\n",
       "      <th>4</th>\n",
       "      <td>joy</td>\n",
       "      <td>i feel like i can't leave the last time i felt...</td>\n",
       "    </tr>\n",
       "    <tr>\n",
       "      <th>5</th>\n",
       "      <td>sad</td>\n",
       "      <td>i feel really really rotten</td>\n",
       "    </tr>\n",
       "    <tr>\n",
       "      <th>6</th>\n",
       "      <td>sad</td>\n",
       "      <td>i'm giving it a few days before i film the las...</td>\n",
       "    </tr>\n",
       "    <tr>\n",
       "      <th>7</th>\n",
       "      <td>sad</td>\n",
       "      <td>i feel remorseful wishing i'd gone easy on oth...</td>\n",
       "    </tr>\n",
       "    <tr>\n",
       "      <th>8</th>\n",
       "      <td>fear</td>\n",
       "      <td>i only read about half of this thread but i ca...</td>\n",
       "    </tr>\n",
       "    <tr>\n",
       "      <th>9</th>\n",
       "      <td>joy</td>\n",
       "      <td>i'm keeping an ice pack to my face and i have ...</td>\n",
       "    </tr>\n",
       "    <tr>\n",
       "      <th>10</th>\n",
       "      <td>fear</td>\n",
       "      <td>i just try to be strong and positive all the t...</td>\n",
       "    </tr>\n",
       "    <tr>\n",
       "      <th>11</th>\n",
       "      <td>joy</td>\n",
       "      <td>i started feeling festive a little early this ...</td>\n",
       "    </tr>\n",
       "    <tr>\n",
       "      <th>12</th>\n",
       "      <td>fear</td>\n",
       "      <td>When I decided to leave my steady, secure empl...</td>\n",
       "    </tr>\n",
       "    <tr>\n",
       "      <th>13</th>\n",
       "      <td>sad</td>\n",
       "      <td>i'm pretty willing to give up pieces of myself...</td>\n",
       "    </tr>\n",
       "    <tr>\n",
       "      <th>14</th>\n",
       "      <td>sad</td>\n",
       "      <td>i am again feeling lousy but wanting to talk a...</td>\n",
       "    </tr>\n",
       "    <tr>\n",
       "      <th>15</th>\n",
       "      <td>anger</td>\n",
       "      <td>i feel irritable and light headed after taking...</td>\n",
       "    </tr>\n",
       "    <tr>\n",
       "      <th>16</th>\n",
       "      <td>anger</td>\n",
       "      <td>i feel dissatisfied with the idea of having su...</td>\n",
       "    </tr>\n",
       "    <tr>\n",
       "      <th>17</th>\n",
       "      <td>anger</td>\n",
       "      <td>i feel ever more impatient to give our departi...</td>\n",
       "    </tr>\n",
       "    <tr>\n",
       "      <th>18</th>\n",
       "      <td>love</td>\n",
       "      <td>i like to drive my men to the edge so they bre...</td>\n",
       "    </tr>\n",
       "    <tr>\n",
       "      <th>19</th>\n",
       "      <td>joy</td>\n",
       "      <td>i've read and some of the way your father has ...</td>\n",
       "    </tr>\n",
       "    <tr>\n",
       "      <th>20</th>\n",
       "      <td>sad</td>\n",
       "      <td>i still post them because a i feel neglectful ...</td>\n",
       "    </tr>\n",
       "    <tr>\n",
       "      <th>21</th>\n",
       "      <td>sad</td>\n",
       "      <td>i think i do at least i mean i feel lonely wit...</td>\n",
       "    </tr>\n",
       "    <tr>\n",
       "      <th>22</th>\n",
       "      <td>anger</td>\n",
       "      <td>i feel that the other person whom i offended w...</td>\n",
       "    </tr>\n",
       "    <tr>\n",
       "      <th>23</th>\n",
       "      <td>love</td>\n",
       "      <td>i feel like i need to stop caring so much i ca...</td>\n",
       "    </tr>\n",
       "    <tr>\n",
       "      <th>24</th>\n",
       "      <td>sad</td>\n",
       "      <td>i feel sorry for those travelers who end up st...</td>\n",
       "    </tr>\n",
       "    <tr>\n",
       "      <th>25</th>\n",
       "      <td>fear</td>\n",
       "      <td>i'm feeling a smidge skeptical though</td>\n",
       "    </tr>\n",
       "    <tr>\n",
       "      <th>26</th>\n",
       "      <td>joy</td>\n",
       "      <td>i set it up all by my little self even connect...</td>\n",
       "    </tr>\n",
       "    <tr>\n",
       "      <th>27</th>\n",
       "      <td>sad</td>\n",
       "      <td>i feel completely and totally rejected again</td>\n",
       "    </tr>\n",
       "    <tr>\n",
       "      <th>28</th>\n",
       "      <td>anger</td>\n",
       "      <td>i didn t upgrade when my last smartphone gave ...</td>\n",
       "    </tr>\n",
       "    <tr>\n",
       "      <th>29</th>\n",
       "      <td>sad</td>\n",
       "      <td>i think physical pain is not as bad as the anx...</td>\n",
       "    </tr>\n",
       "    <tr>\n",
       "      <th>...</th>\n",
       "      <td>...</td>\n",
       "      <td>...</td>\n",
       "    </tr>\n",
       "    <tr>\n",
       "      <th>342090</th>\n",
       "      <td>sad</td>\n",
       "      <td>When my mother scolded me for something, very ...</td>\n",
       "    </tr>\n",
       "    <tr>\n",
       "      <th>342091</th>\n",
       "      <td>fear</td>\n",
       "      <td>i feel anxious for a pregnant friend i realise...</td>\n",
       "    </tr>\n",
       "    <tr>\n",
       "      <th>342092</th>\n",
       "      <td>shame</td>\n",
       "      <td>When the student union leaders were expelled f...</td>\n",
       "    </tr>\n",
       "    <tr>\n",
       "      <th>342093</th>\n",
       "      <td>joy</td>\n",
       "      <td>i had a super productive crafty week all that ...</td>\n",
       "    </tr>\n",
       "    <tr>\n",
       "      <th>342094</th>\n",
       "      <td>sad</td>\n",
       "      <td>i feel i am doomed to all this forever or at l...</td>\n",
       "    </tr>\n",
       "    <tr>\n",
       "      <th>342095</th>\n",
       "      <td>surprise</td>\n",
       "      <td>i should have been finding a record company wi...</td>\n",
       "    </tr>\n",
       "    <tr>\n",
       "      <th>342096</th>\n",
       "      <td>joy</td>\n",
       "      <td>i guess the mayor feels he can t get a few sma...</td>\n",
       "    </tr>\n",
       "    <tr>\n",
       "      <th>342097</th>\n",
       "      <td>joy</td>\n",
       "      <td>i did some sprints in there and now i feel ter...</td>\n",
       "    </tr>\n",
       "    <tr>\n",
       "      <th>342098</th>\n",
       "      <td>sad</td>\n",
       "      <td>i feel ignored abandoned betrayed</td>\n",
       "    </tr>\n",
       "    <tr>\n",
       "      <th>342099</th>\n",
       "      <td>sad</td>\n",
       "      <td>i've been having issues keeping my hair lookin...</td>\n",
       "    </tr>\n",
       "    <tr>\n",
       "      <th>342100</th>\n",
       "      <td>sad</td>\n",
       "      <td>i feel as useless as a dead log in the woods r...</td>\n",
       "    </tr>\n",
       "    <tr>\n",
       "      <th>342101</th>\n",
       "      <td>sad</td>\n",
       "      <td>i feel the pathetic need for self improvement ...</td>\n",
       "    </tr>\n",
       "    <tr>\n",
       "      <th>342102</th>\n",
       "      <td>surprise</td>\n",
       "      <td>i understand my actions yet still feel shocked...</td>\n",
       "    </tr>\n",
       "    <tr>\n",
       "      <th>342103</th>\n",
       "      <td>sad</td>\n",
       "      <td>i've been applying for lots of jobs getting in...</td>\n",
       "    </tr>\n",
       "    <tr>\n",
       "      <th>342104</th>\n",
       "      <td>joy</td>\n",
       "      <td>i find meaning and joy in it and i feel valued...</td>\n",
       "    </tr>\n",
       "    <tr>\n",
       "      <th>342105</th>\n",
       "      <td>love</td>\n",
       "      <td>i am a mother the more i feel i can appreciate...</td>\n",
       "    </tr>\n",
       "    <tr>\n",
       "      <th>342106</th>\n",
       "      <td>anger</td>\n",
       "      <td>i haven't read the sunday newspapers yet so i ...</td>\n",
       "    </tr>\n",
       "    <tr>\n",
       "      <th>342107</th>\n",
       "      <td>joy</td>\n",
       "      <td>i feel i m not sure what will</td>\n",
       "    </tr>\n",
       "    <tr>\n",
       "      <th>342108</th>\n",
       "      <td>sad</td>\n",
       "      <td>i was a little concerned about feeling mentall...</td>\n",
       "    </tr>\n",
       "    <tr>\n",
       "      <th>342109</th>\n",
       "      <td>surprise</td>\n",
       "      <td>i just feel so overwhelmed and i really just w...</td>\n",
       "    </tr>\n",
       "    <tr>\n",
       "      <th>342110</th>\n",
       "      <td>sad</td>\n",
       "      <td>This sounds really predictable and usual but i...</td>\n",
       "    </tr>\n",
       "    <tr>\n",
       "      <th>342111</th>\n",
       "      <td>joy</td>\n",
       "      <td>i feel assured that the future of online enter...</td>\n",
       "    </tr>\n",
       "    <tr>\n",
       "      <th>342112</th>\n",
       "      <td>joy</td>\n",
       "      <td>i'm feeling pretty super pregnant these days</td>\n",
       "    </tr>\n",
       "    <tr>\n",
       "      <th>342113</th>\n",
       "      <td>joy</td>\n",
       "      <td>i feel virtuous all day</td>\n",
       "    </tr>\n",
       "    <tr>\n",
       "      <th>342114</th>\n",
       "      <td>joy</td>\n",
       "      <td>i guess i should feel reassured that almost fo...</td>\n",
       "    </tr>\n",
       "    <tr>\n",
       "      <th>342115</th>\n",
       "      <td>sad</td>\n",
       "      <td>i feel very ashamed for even typing this messa...</td>\n",
       "    </tr>\n",
       "    <tr>\n",
       "      <th>342116</th>\n",
       "      <td>sad</td>\n",
       "      <td>i feel ashamed having to queue at the food bank</td>\n",
       "    </tr>\n",
       "    <tr>\n",
       "      <th>342117</th>\n",
       "      <td>joy</td>\n",
       "      <td>i think he is really feeling the song and is v...</td>\n",
       "    </tr>\n",
       "    <tr>\n",
       "      <th>342118</th>\n",
       "      <td>sad</td>\n",
       "      <td>i feel horribly disillusioned</td>\n",
       "    </tr>\n",
       "    <tr>\n",
       "      <th>342119</th>\n",
       "      <td>anger</td>\n",
       "      <td>i feel like if i ask them to stay for me then ...</td>\n",
       "    </tr>\n",
       "  </tbody>\n",
       "</table>\n",
       "<p>342120 rows × 2 columns</p>\n",
       "</div>"
      ],
      "text/plain": [
       "         emotion                                            content\n",
       "0           love  i had written or said but i always got the fee...\n",
       "1            joy     i feel readers will be insanely entertained by\n",
       "2           love  i got a good night s sleep last night i m over...\n",
       "3            sad                 i feel myself getting stressed out\n",
       "4            joy  i feel like i can't leave the last time i felt...\n",
       "5            sad                        i feel really really rotten\n",
       "6            sad  i'm giving it a few days before i film the las...\n",
       "7            sad  i feel remorseful wishing i'd gone easy on oth...\n",
       "8           fear  i only read about half of this thread but i ca...\n",
       "9            joy  i'm keeping an ice pack to my face and i have ...\n",
       "10          fear  i just try to be strong and positive all the t...\n",
       "11           joy  i started feeling festive a little early this ...\n",
       "12          fear  When I decided to leave my steady, secure empl...\n",
       "13           sad  i'm pretty willing to give up pieces of myself...\n",
       "14           sad  i am again feeling lousy but wanting to talk a...\n",
       "15         anger  i feel irritable and light headed after taking...\n",
       "16         anger  i feel dissatisfied with the idea of having su...\n",
       "17         anger  i feel ever more impatient to give our departi...\n",
       "18          love  i like to drive my men to the edge so they bre...\n",
       "19           joy  i've read and some of the way your father has ...\n",
       "20           sad  i still post them because a i feel neglectful ...\n",
       "21           sad  i think i do at least i mean i feel lonely wit...\n",
       "22         anger  i feel that the other person whom i offended w...\n",
       "23          love  i feel like i need to stop caring so much i ca...\n",
       "24           sad  i feel sorry for those travelers who end up st...\n",
       "25          fear              i'm feeling a smidge skeptical though\n",
       "26           joy  i set it up all by my little self even connect...\n",
       "27           sad       i feel completely and totally rejected again\n",
       "28         anger  i didn t upgrade when my last smartphone gave ...\n",
       "29           sad  i think physical pain is not as bad as the anx...\n",
       "...          ...                                                ...\n",
       "342090       sad  When my mother scolded me for something, very ...\n",
       "342091      fear  i feel anxious for a pregnant friend i realise...\n",
       "342092     shame  When the student union leaders were expelled f...\n",
       "342093       joy  i had a super productive crafty week all that ...\n",
       "342094       sad  i feel i am doomed to all this forever or at l...\n",
       "342095  surprise  i should have been finding a record company wi...\n",
       "342096       joy  i guess the mayor feels he can t get a few sma...\n",
       "342097       joy  i did some sprints in there and now i feel ter...\n",
       "342098       sad                  i feel ignored abandoned betrayed\n",
       "342099       sad  i've been having issues keeping my hair lookin...\n",
       "342100       sad  i feel as useless as a dead log in the woods r...\n",
       "342101       sad  i feel the pathetic need for self improvement ...\n",
       "342102  surprise  i understand my actions yet still feel shocked...\n",
       "342103       sad  i've been applying for lots of jobs getting in...\n",
       "342104       joy  i find meaning and joy in it and i feel valued...\n",
       "342105      love  i am a mother the more i feel i can appreciate...\n",
       "342106     anger  i haven't read the sunday newspapers yet so i ...\n",
       "342107       joy                      i feel i m not sure what will\n",
       "342108       sad  i was a little concerned about feeling mentall...\n",
       "342109  surprise  i just feel so overwhelmed and i really just w...\n",
       "342110       sad  This sounds really predictable and usual but i...\n",
       "342111       joy  i feel assured that the future of online enter...\n",
       "342112       joy       i'm feeling pretty super pregnant these days\n",
       "342113       joy                            i feel virtuous all day\n",
       "342114       joy  i guess i should feel reassured that almost fo...\n",
       "342115       sad  i feel very ashamed for even typing this messa...\n",
       "342116       sad    i feel ashamed having to queue at the food bank\n",
       "342117       joy  i think he is really feeling the song and is v...\n",
       "342118       sad                      i feel horribly disillusioned\n",
       "342119     anger  i feel like if i ask them to stay for me then ...\n",
       "\n",
       "[342120 rows x 2 columns]"
      ]
     },
     "execution_count": 7,
     "metadata": {},
     "output_type": "execute_result"
    }
   ],
   "source": [
    "emotions = df.emotion.unique() # All classes of emotions\n",
    "df\n",
    "# df = df.reindex(np.random.permutation(df.index)) # re - indexing all the rows randomly -> \n",
    "# # Random re - indexing is done have a random shuffling in the data so that distribution is comparable in Training\n",
    "# # and validation set\n",
    "# df.to_csv(\"datasets/master.csv\", index = False) # saving the dataFrame to a csv file"
   ]
  },
  {
   "cell_type": "code",
   "execution_count": 31,
   "metadata": {},
   "outputs": [
    {
     "name": "stdout",
     "output_type": "stream",
     "text": [
      "i think he is really feeling the song and is very sincere which is an impressive thing\n",
      "joy\n",
      "['love' 'joy' 'sad' 'fear' 'anger' 'guilt' 'surprise' 'disgust' 'shame']\n"
     ]
    },
    {
     "data": {
      "text/plain": [
       "(342120, 1)"
      ]
     },
     "execution_count": 31,
     "metadata": {},
     "output_type": "execute_result"
    }
   ],
   "source": [
    "print(df['content'][342117]) # Our read Data -> 342120 rows\n",
    "print(df['emotion'][342117]) \n",
    "print(emotions) # Classes of emotions -> 9 classes\n",
    "\n",
    "y = df.drop(columns = ['emotion'])\n",
    "y = y.values\n",
    "y = np.asarray(y)\n"
   ]
  },
  {
   "cell_type": "markdown",
   "metadata": {},
   "source": [
    "# Step 2 : Data Visualization"
   ]
  },
  {
   "cell_type": "code",
   "execution_count": 6,
   "metadata": {},
   "outputs": [
    {
     "name": "stdout",
     "output_type": "stream",
     "text": [
      "       emotion                                            content\n",
      "count   342120                                             342120\n",
      "unique       9                                             342120\n",
      "top        joy  i feel more like those years we treasured they...\n",
      "freq    110693                                                  1 \n",
      "\n",
      "<class 'pandas.core.frame.DataFrame'>\n",
      "RangeIndex: 342120 entries, 0 to 342119\n",
      "Data columns (total 2 columns):\n",
      "emotion    342120 non-null object\n",
      "content    342120 non-null object\n",
      "dtypes: object(2)\n",
      "memory usage: 5.2+ MB\n",
      "None \n",
      "\n",
      "emotion    342120\n",
      "content    342120\n",
      "dtype: int64 \n",
      "\n",
      "emotion    0\n",
      "content    0\n",
      "dtype: int64\n",
      "\n",
      "\n",
      "['emotion' 'content']\n",
      "\n",
      "\n"
     ]
    }
   ],
   "source": [
    "# Statistics Of the Data\n",
    "\n",
    "print(df.describe(), \"\\n\")\n",
    "print(df.info(),\"\\n\")\n",
    "\n",
    "# Descriptive statistics that summarize the central tendency, dispersion and shape of a dataset’s distribution, \n",
    "# excluding NaN values\n",
    "# Descriptive Statistics involves -> count, unique, top, and freq. \n",
    "# The top is the most common value. The freq is the most common value’s frequency. \n",
    "# Timestamps also include the first and last items.\n",
    "\n",
    "print(df.count(), \"\\n\")# Count non-NA cells for each column or row\n",
    "print(df.isna().sum())\n",
    "print(\"\\n\")\n",
    "print(df.columns.values) # All Columns in the Dataframe\n",
    "print(\"\\n\")"
   ]
  },
  {
   "cell_type": "code",
   "execution_count": 7,
   "metadata": {},
   "outputs": [
    {
     "name": "stdout",
     "output_type": "stream",
     "text": [
      "joy         110693\n",
      "sad         103246\n",
      "anger        47318\n",
      "fear         34808\n",
      "love         29048\n",
      "surprise     12650\n",
      "shame         1559\n",
      "guilt         1487\n",
      "disgust       1311\n",
      "Name: emotion, dtype: int64\n",
      "\n",
      "\n",
      "joy         32.355022\n",
      "sad         30.178300\n",
      "anger       13.830820\n",
      "fear        10.174208\n",
      "love         8.490588\n",
      "surprise     3.697533\n",
      "shame        0.455688\n",
      "guilt        0.434643\n",
      "disgust      0.383199\n",
      "Name: emotion, dtype: float64\n",
      "\n",
      "\n",
      "AxesSubplot(0.125,0.125;0.775x0.755)\n"
     ]
    },
    {
     "data": {
      "image/png": "[encoded data removed]",
      "text/plain": [
       "<Figure size 432x288 with 1 Axes>"
      ]
     },
     "metadata": {
      "needs_background": "light"
     },
     "output_type": "display_data"
    }
   ],
   "source": [
    "# Data Distribution\n",
    "\n",
    "import seaborn as sns\n",
    "\n",
    "print(df['emotion'].value_counts())\n",
    "print(\"\\n\")\n",
    "print((df['emotion'].value_counts()/df['emotion'].count())*100)\n",
    "print(\"\\n\")\n",
    "print(sns.countplot(\"emotion\",data = df))\n",
    "\n",
    "# Our Distribution is highly imbalanced -> We will go with this distribution only first to check the performance\n",
    "# of our model"
   ]
  },
  {
   "cell_type": "markdown",
   "metadata": {},
   "source": [
    "# Step 3 : Data Preprocessing"
   ]
  },
  {
   "cell_type": "code",
   "execution_count": 8,
   "metadata": {},
   "outputs": [
    {
     "name": "stdout",
     "output_type": "stream",
     "text": [
      "joy        110693\n",
      "sad        103246\n",
      "anger       47318\n",
      "neutral     46055\n",
      "fear        34808\n",
      "Name: emotion, dtype: int64\n",
      "\n",
      "\n",
      "joy        32.355022\n",
      "sad        30.178300\n",
      "anger      13.830820\n",
      "neutral    13.461651\n",
      "fear       10.174208\n",
      "Name: emotion, dtype: float64\n",
      "\n",
      "\n",
      "AxesSubplot(0.125,0.125;0.775x0.755)\n"
     ]
    },
    {
     "data": {
      "image/png": "[encoded data removed]",
      "text/plain": [
       "<Figure size 432x288 with 1 Axes>"
      ]
     },
     "metadata": {
      "needs_background": "light"
     },
     "output_type": "display_data"
    }
   ],
   "source": [
    "# Combining classes\n",
    "\n",
    "# 1) joy, sad, anger, fear, neutral -> combine love, surprise, shame, guilt, disgust and make sad, joy datapoints as 50k each\n",
    "\n",
    "\n",
    "removed_classes = ['love','surprise','shame','guilt','disgust']\n",
    "\n",
    "for i in removed_classes:\n",
    "    df = df.replace(i, 'neutral')\n",
    "\n",
    "# filter_sad = df.where(df['emotion'] == 'sad')\n",
    "# filter_sad = filter_sad.dropna()\n",
    "# print(filter_sad)\n",
    "# print(df)\n",
    "    \n",
    "print(df['emotion'].value_counts())\n",
    "print(\"\\n\")\n",
    "print((df['emotion'].value_counts()/df['emotion'].count())*100)\n",
    "print(\"\\n\")\n",
    "print(sns.countplot(\"emotion\",data = df))"
   ]
  },
  {
   "cell_type": "code",
   "execution_count": 9,
   "metadata": {},
   "outputs": [],
   "source": [
    "# Sampling Data from combined classes df\n",
    "\n",
    "# sampled_df = pd.DataFrame(columns = ['emotion','content'])\n",
    "\n",
    "# sampled_classes = ['joy' , 'sad']\n",
    "# unsampled_classes = ['neutral','fear','anger']\n",
    "\n",
    "# for i in sampled_classes:\n",
    "#     temp_df = df.loc[df.emotion == i]\n",
    "#     no_samples_removed = int(temp_df['emotion'].value_counts() - 50000)\n",
    "#     print(no_samples_removed)\n",
    "#     sampled_df = sampled_df.append(temp_df.drop(np.random.choice(temp_df.index, no_samples_removed, replace=False)))\n",
    "\n",
    "# # print(sampled_df.isna().sum())\n",
    "\n",
    "# for i in unsampled_classes:\n",
    "#     temp_df = df.loc[df.emotion == i]\n",
    "#     no_samples_removed = int(temp_df['emotion'].value_counts() - 0)\n",
    "#     print(no_samples_removed)\n",
    "#     sampled_df = sampled_df.append(temp_df)\n",
    "\n",
    "# # print(sampled_df.isna().sum())\n",
    "\n",
    "# sampled_df = sampled_df.reindex(np.random.permutation(sampled_df.index))\n",
    "# print(sampled_df.isna().sum())\n",
    "# sampled_df.loc[sampled_df.content == None]\n",
    "# sampled_df\n",
    "# sampled_df.to_csv(\"datasets/sampled.csv\", index = False)"
   ]
  },
  {
   "cell_type": "code",
   "execution_count": 10,
   "metadata": {},
   "outputs": [
    {
     "name": "stdout",
     "output_type": "stream",
     "text": [
      "emotion    0\n",
      "content    0\n",
      "dtype: int64\n"
     ]
    },
    {
     "data": {
      "text/html": [
       "<div>\n",
       "<style scoped>\n",
       "    .dataframe tbody tr th:only-of-type {\n",
       "        vertical-align: middle;\n",
       "    }\n",
       "\n",
       "    .dataframe tbody tr th {\n",
       "        vertical-align: top;\n",
       "    }\n",
       "\n",
       "    .dataframe thead th {\n",
       "        text-align: right;\n",
       "    }\n",
       "</style>\n",
       "<table border=\"1\" class=\"dataframe\">\n",
       "  <thead>\n",
       "    <tr style=\"text-align: right;\">\n",
       "      <th></th>\n",
       "      <th>emotion</th>\n",
       "      <th>content</th>\n",
       "    </tr>\n",
       "  </thead>\n",
       "  <tbody>\n",
       "    <tr>\n",
       "      <th>0</th>\n",
       "      <td>joy</td>\n",
       "      <td>When my former boyfriend and I reconciled and ...</td>\n",
       "    </tr>\n",
       "    <tr>\n",
       "      <th>1</th>\n",
       "      <td>sad</td>\n",
       "      <td>i was feeling a little whiney about winter coming</td>\n",
       "    </tr>\n",
       "    <tr>\n",
       "      <th>2</th>\n",
       "      <td>sad</td>\n",
       "      <td>i am the one who ends up feeling bad for causi...</td>\n",
       "    </tr>\n",
       "    <tr>\n",
       "      <th>3</th>\n",
       "      <td>fear</td>\n",
       "      <td>i feel i am treading always a shaky tightrope ...</td>\n",
       "    </tr>\n",
       "    <tr>\n",
       "      <th>4</th>\n",
       "      <td>fear</td>\n",
       "      <td>i still feel fearful for when they leave to go...</td>\n",
       "    </tr>\n",
       "    <tr>\n",
       "      <th>5</th>\n",
       "      <td>neutral</td>\n",
       "      <td>i feel this smells a bit too sweet or candy li...</td>\n",
       "    </tr>\n",
       "    <tr>\n",
       "      <th>6</th>\n",
       "      <td>sad</td>\n",
       "      <td>i feel pretty jaded that it s taken me 20 year...</td>\n",
       "    </tr>\n",
       "    <tr>\n",
       "      <th>7</th>\n",
       "      <td>anger</td>\n",
       "      <td>i need to calm down give myself a break and re...</td>\n",
       "    </tr>\n",
       "    <tr>\n",
       "      <th>8</th>\n",
       "      <td>joy</td>\n",
       "      <td>i feel at ease and tranquil where i can finall...</td>\n",
       "    </tr>\n",
       "    <tr>\n",
       "      <th>9</th>\n",
       "      <td>anger</td>\n",
       "      <td>i am also feeling furious dismayed terrified u...</td>\n",
       "    </tr>\n",
       "    <tr>\n",
       "      <th>10</th>\n",
       "      <td>sad</td>\n",
       "      <td>i still feel lonely when i have my loved ones</td>\n",
       "    </tr>\n",
       "    <tr>\n",
       "      <th>11</th>\n",
       "      <td>anger</td>\n",
       "      <td>i feel pain because i care i hope for your con...</td>\n",
       "    </tr>\n",
       "    <tr>\n",
       "      <th>12</th>\n",
       "      <td>sad</td>\n",
       "      <td>i think i have a slight case of ocd because i ...</td>\n",
       "    </tr>\n",
       "    <tr>\n",
       "      <th>13</th>\n",
       "      <td>joy</td>\n",
       "      <td>i found a nice mix of self care disciplines re...</td>\n",
       "    </tr>\n",
       "    <tr>\n",
       "      <th>14</th>\n",
       "      <td>anger</td>\n",
       "      <td>i always feel me impolite and confused here in...</td>\n",
       "    </tr>\n",
       "    <tr>\n",
       "      <th>15</th>\n",
       "      <td>joy</td>\n",
       "      <td>i do not feel fearless these days</td>\n",
       "    </tr>\n",
       "    <tr>\n",
       "      <th>16</th>\n",
       "      <td>joy</td>\n",
       "      <td>i love the clean and simple feel elegant but v...</td>\n",
       "    </tr>\n",
       "    <tr>\n",
       "      <th>17</th>\n",
       "      <td>sad</td>\n",
       "      <td>i cannot say what i want but i believe my feel...</td>\n",
       "    </tr>\n",
       "    <tr>\n",
       "      <th>18</th>\n",
       "      <td>neutral</td>\n",
       "      <td>i started feeling kinda funny</td>\n",
       "    </tr>\n",
       "    <tr>\n",
       "      <th>19</th>\n",
       "      <td>fear</td>\n",
       "      <td>I thought that I would be scolded for a commen...</td>\n",
       "    </tr>\n",
       "    <tr>\n",
       "      <th>20</th>\n",
       "      <td>sad</td>\n",
       "      <td>i've been feeling very discontent in my friend...</td>\n",
       "    </tr>\n",
       "    <tr>\n",
       "      <th>21</th>\n",
       "      <td>fear</td>\n",
       "      <td>i feel shaky and scared and not excited at all</td>\n",
       "    </tr>\n",
       "    <tr>\n",
       "      <th>22</th>\n",
       "      <td>anger</td>\n",
       "      <td>i feel sickened by and disgusted with the sins...</td>\n",
       "    </tr>\n",
       "    <tr>\n",
       "      <th>23</th>\n",
       "      <td>fear</td>\n",
       "      <td>i was feeling unsure of the location</td>\n",
       "    </tr>\n",
       "    <tr>\n",
       "      <th>24</th>\n",
       "      <td>joy</td>\n",
       "      <td>i know there s probably some punk rocker readi...</td>\n",
       "    </tr>\n",
       "    <tr>\n",
       "      <th>25</th>\n",
       "      <td>joy</td>\n",
       "      <td>i could feel her joyful heart</td>\n",
       "    </tr>\n",
       "    <tr>\n",
       "      <th>26</th>\n",
       "      <td>fear</td>\n",
       "      <td>i could feel myself shrinking shrinking away a...</td>\n",
       "    </tr>\n",
       "    <tr>\n",
       "      <th>27</th>\n",
       "      <td>neutral</td>\n",
       "      <td>i pull from when i'm bitten by the ya book exc...</td>\n",
       "    </tr>\n",
       "    <tr>\n",
       "      <th>28</th>\n",
       "      <td>neutral</td>\n",
       "      <td>i have a feeling i m going to be surprised at ...</td>\n",
       "    </tr>\n",
       "    <tr>\n",
       "      <th>29</th>\n",
       "      <td>neutral</td>\n",
       "      <td>i kept walking around today feeling surprised ...</td>\n",
       "    </tr>\n",
       "    <tr>\n",
       "      <th>...</th>\n",
       "      <td>...</td>\n",
       "      <td>...</td>\n",
       "    </tr>\n",
       "    <tr>\n",
       "      <th>228151</th>\n",
       "      <td>sad</td>\n",
       "      <td>i am feeling so low lately just feeling of hop...</td>\n",
       "    </tr>\n",
       "    <tr>\n",
       "      <th>228152</th>\n",
       "      <td>anger</td>\n",
       "      <td>i get this feeling that i am being to greedy t...</td>\n",
       "    </tr>\n",
       "    <tr>\n",
       "      <th>228153</th>\n",
       "      <td>fear</td>\n",
       "      <td>i'm feeling pretty wimpy right now but god see...</td>\n",
       "    </tr>\n",
       "    <tr>\n",
       "      <th>228154</th>\n",
       "      <td>sad</td>\n",
       "      <td>i can put in a 14 hour day without even lookin...</td>\n",
       "    </tr>\n",
       "    <tr>\n",
       "      <th>228155</th>\n",
       "      <td>fear</td>\n",
       "      <td>i have now had a shower and gained some distan...</td>\n",
       "    </tr>\n",
       "    <tr>\n",
       "      <th>228156</th>\n",
       "      <td>sad</td>\n",
       "      <td>i started today with a good feeling but that h...</td>\n",
       "    </tr>\n",
       "    <tr>\n",
       "      <th>228157</th>\n",
       "      <td>fear</td>\n",
       "      <td>i can tell you i do not feel at this moment th...</td>\n",
       "    </tr>\n",
       "    <tr>\n",
       "      <th>228158</th>\n",
       "      <td>sad</td>\n",
       "      <td>i was feeling sorry for myself and depressed a...</td>\n",
       "    </tr>\n",
       "    <tr>\n",
       "      <th>228159</th>\n",
       "      <td>neutral</td>\n",
       "      <td>i just sat there for a few minutes feeling a b...</td>\n",
       "    </tr>\n",
       "    <tr>\n",
       "      <th>228160</th>\n",
       "      <td>anger</td>\n",
       "      <td>i get the feeling that the day will end in eit...</td>\n",
       "    </tr>\n",
       "    <tr>\n",
       "      <th>228161</th>\n",
       "      <td>anger</td>\n",
       "      <td>i feel like i have been wronged by should suffice</td>\n",
       "    </tr>\n",
       "    <tr>\n",
       "      <th>228162</th>\n",
       "      <td>joy</td>\n",
       "      <td>i feel this can be vital to bear in mind of ov...</td>\n",
       "    </tr>\n",
       "    <tr>\n",
       "      <th>228163</th>\n",
       "      <td>joy</td>\n",
       "      <td>i associate all feelings with something delici...</td>\n",
       "    </tr>\n",
       "    <tr>\n",
       "      <th>228164</th>\n",
       "      <td>neutral</td>\n",
       "      <td>i feel longing for you here now in this moment...</td>\n",
       "    </tr>\n",
       "    <tr>\n",
       "      <th>228165</th>\n",
       "      <td>joy</td>\n",
       "      <td>i wasn't feeling to thrilled about myself by t...</td>\n",
       "    </tr>\n",
       "    <tr>\n",
       "      <th>228166</th>\n",
       "      <td>joy</td>\n",
       "      <td>i feel miraculously satisfied until about 3:30...</td>\n",
       "    </tr>\n",
       "    <tr>\n",
       "      <th>228167</th>\n",
       "      <td>joy</td>\n",
       "      <td>i was hoping to stay busy enough that perhaps ...</td>\n",
       "    </tr>\n",
       "    <tr>\n",
       "      <th>228168</th>\n",
       "      <td>joy</td>\n",
       "      <td>i need to feel personally valued</td>\n",
       "    </tr>\n",
       "    <tr>\n",
       "      <th>228169</th>\n",
       "      <td>joy</td>\n",
       "      <td>i want to feel like the musicians i listen to ...</td>\n",
       "    </tr>\n",
       "    <tr>\n",
       "      <th>228170</th>\n",
       "      <td>neutral</td>\n",
       "      <td>i think there is a feeling of freefall of long...</td>\n",
       "    </tr>\n",
       "    <tr>\n",
       "      <th>228171</th>\n",
       "      <td>neutral</td>\n",
       "      <td>i feel accepted for who i am</td>\n",
       "    </tr>\n",
       "    <tr>\n",
       "      <th>228172</th>\n",
       "      <td>fear</td>\n",
       "      <td>i attended last weekend i feel less scared and...</td>\n",
       "    </tr>\n",
       "    <tr>\n",
       "      <th>228173</th>\n",
       "      <td>anger</td>\n",
       "      <td>i think she still has feelings for him and i c...</td>\n",
       "    </tr>\n",
       "    <tr>\n",
       "      <th>228174</th>\n",
       "      <td>sad</td>\n",
       "      <td>i feel like i do that once a week though and i...</td>\n",
       "    </tr>\n",
       "    <tr>\n",
       "      <th>228175</th>\n",
       "      <td>joy</td>\n",
       "      <td>i want to feel proud of myself for that but i ...</td>\n",
       "    </tr>\n",
       "    <tr>\n",
       "      <th>228176</th>\n",
       "      <td>anger</td>\n",
       "      <td>i know what it is like to feel prayers are not...</td>\n",
       "    </tr>\n",
       "    <tr>\n",
       "      <th>228177</th>\n",
       "      <td>joy</td>\n",
       "      <td>i'm feeling pretty solemn about it compared to...</td>\n",
       "    </tr>\n",
       "    <tr>\n",
       "      <th>228178</th>\n",
       "      <td>neutral</td>\n",
       "      <td>i was without all of my clothes i took her nig...</td>\n",
       "    </tr>\n",
       "    <tr>\n",
       "      <th>228179</th>\n",
       "      <td>anger</td>\n",
       "      <td>i just got some glitter eye liner from kmart a...</td>\n",
       "    </tr>\n",
       "    <tr>\n",
       "      <th>228180</th>\n",
       "      <td>neutral</td>\n",
       "      <td>i feel like i'm having some kind of weird iden...</td>\n",
       "    </tr>\n",
       "  </tbody>\n",
       "</table>\n",
       "<p>228181 rows × 2 columns</p>\n",
       "</div>"
      ],
      "text/plain": [
       "        emotion                                            content\n",
       "0           joy  When my former boyfriend and I reconciled and ...\n",
       "1           sad  i was feeling a little whiney about winter coming\n",
       "2           sad  i am the one who ends up feeling bad for causi...\n",
       "3          fear  i feel i am treading always a shaky tightrope ...\n",
       "4          fear  i still feel fearful for when they leave to go...\n",
       "5       neutral  i feel this smells a bit too sweet or candy li...\n",
       "6           sad  i feel pretty jaded that it s taken me 20 year...\n",
       "7         anger  i need to calm down give myself a break and re...\n",
       "8           joy  i feel at ease and tranquil where i can finall...\n",
       "9         anger  i am also feeling furious dismayed terrified u...\n",
       "10          sad      i still feel lonely when i have my loved ones\n",
       "11        anger  i feel pain because i care i hope for your con...\n",
       "12          sad  i think i have a slight case of ocd because i ...\n",
       "13          joy  i found a nice mix of self care disciplines re...\n",
       "14        anger  i always feel me impolite and confused here in...\n",
       "15          joy                  i do not feel fearless these days\n",
       "16          joy  i love the clean and simple feel elegant but v...\n",
       "17          sad  i cannot say what i want but i believe my feel...\n",
       "18      neutral                      i started feeling kinda funny\n",
       "19         fear  I thought that I would be scolded for a commen...\n",
       "20          sad  i've been feeling very discontent in my friend...\n",
       "21         fear     i feel shaky and scared and not excited at all\n",
       "22        anger  i feel sickened by and disgusted with the sins...\n",
       "23         fear               i was feeling unsure of the location\n",
       "24          joy  i know there s probably some punk rocker readi...\n",
       "25          joy                      i could feel her joyful heart\n",
       "26         fear  i could feel myself shrinking shrinking away a...\n",
       "27      neutral  i pull from when i'm bitten by the ya book exc...\n",
       "28      neutral  i have a feeling i m going to be surprised at ...\n",
       "29      neutral  i kept walking around today feeling surprised ...\n",
       "...         ...                                                ...\n",
       "228151      sad  i am feeling so low lately just feeling of hop...\n",
       "228152    anger  i get this feeling that i am being to greedy t...\n",
       "228153     fear  i'm feeling pretty wimpy right now but god see...\n",
       "228154      sad  i can put in a 14 hour day without even lookin...\n",
       "228155     fear  i have now had a shower and gained some distan...\n",
       "228156      sad  i started today with a good feeling but that h...\n",
       "228157     fear  i can tell you i do not feel at this moment th...\n",
       "228158      sad  i was feeling sorry for myself and depressed a...\n",
       "228159  neutral  i just sat there for a few minutes feeling a b...\n",
       "228160    anger  i get the feeling that the day will end in eit...\n",
       "228161    anger  i feel like i have been wronged by should suffice\n",
       "228162      joy  i feel this can be vital to bear in mind of ov...\n",
       "228163      joy  i associate all feelings with something delici...\n",
       "228164  neutral  i feel longing for you here now in this moment...\n",
       "228165      joy  i wasn't feeling to thrilled about myself by t...\n",
       "228166      joy  i feel miraculously satisfied until about 3:30...\n",
       "228167      joy  i was hoping to stay busy enough that perhaps ...\n",
       "228168      joy                   i need to feel personally valued\n",
       "228169      joy  i want to feel like the musicians i listen to ...\n",
       "228170  neutral  i think there is a feeling of freefall of long...\n",
       "228171  neutral                       i feel accepted for who i am\n",
       "228172     fear  i attended last weekend i feel less scared and...\n",
       "228173    anger  i think she still has feelings for him and i c...\n",
       "228174      sad  i feel like i do that once a week though and i...\n",
       "228175      joy  i want to feel proud of myself for that but i ...\n",
       "228176    anger  i know what it is like to feel prayers are not...\n",
       "228177      joy  i'm feeling pretty solemn about it compared to...\n",
       "228178  neutral  i was without all of my clothes i took her nig...\n",
       "228179    anger  i just got some glitter eye liner from kmart a...\n",
       "228180  neutral  i feel like i'm having some kind of weird iden...\n",
       "\n",
       "[228181 rows x 2 columns]"
      ]
     },
     "execution_count": 10,
     "metadata": {},
     "output_type": "execute_result"
    }
   ],
   "source": [
    "# Reading our sampled data as DataFrame\n",
    "\n",
    "sampled_df = pd.read_csv(\"datasets/sampled.csv\" , encoding='utf-8')\n",
    "sampled_df['content'] = sampled_df['content'].astype(str)\n",
    "print(sampled_df.isna().sum())\n",
    "sampled_df"
   ]
  },
  {
   "cell_type": "code",
   "execution_count": 11,
   "metadata": {},
   "outputs": [
    {
     "name": "stdout",
     "output_type": "stream",
     "text": [
      "sad        50000\n",
      "joy        50000\n",
      "anger      47318\n",
      "neutral    46055\n",
      "fear       34808\n",
      "Name: emotion, dtype: int64\n",
      "\n",
      "\n",
      "sad        21.912429\n",
      "joy        21.912429\n",
      "anger      20.737046\n",
      "neutral    20.183539\n",
      "fear       15.254557\n",
      "Name: emotion, dtype: float64\n",
      "\n",
      "\n",
      "AxesSubplot(0.125,0.125;0.775x0.755)\n"
     ]
    },
    {
     "data": {
      "image/png": "[encoded data removed]",
      "text/plain": [
       "<Figure size 432x288 with 1 Axes>"
      ]
     },
     "metadata": {
      "needs_background": "light"
     },
     "output_type": "display_data"
    }
   ],
   "source": [
    "# Sampled Data Distribution\n",
    "\n",
    "print(sampled_df['emotion'].value_counts())\n",
    "print(\"\\n\")\n",
    "print((sampled_df['emotion'].value_counts()/sampled_df['emotion'].count())*100)\n",
    "print(\"\\n\")\n",
    "print(sns.countplot(\"emotion\",data = sampled_df))"
   ]
  },
  {
   "cell_type": "code",
   "execution_count": 12,
   "metadata": {},
   "outputs": [
    {
     "name": "stdout",
     "output_type": "stream",
     "text": [
      "<class 'pandas.core.frame.DataFrame'>\n",
      "RangeIndex: 228181 entries, 0 to 228180\n",
      "Data columns (total 2 columns):\n",
      "emotion    228181 non-null object\n",
      "content    228181 non-null object\n",
      "dtypes: object(2)\n",
      "memory usage: 3.5+ MB\n",
      "None \n",
      "\n",
      "emotion    228181\n",
      "content    228181\n",
      "dtype: int64 \n",
      "\n",
      "emotion    0\n",
      "content    0\n",
      "dtype: int64\n",
      "\n",
      "\n",
      "['emotion' 'content']\n",
      "\n",
      "\n"
     ]
    }
   ],
   "source": [
    "# Statistical Analysis on Sampled DataFrame\n",
    "\n",
    "print(sampled_df.info(),\"\\n\")\n",
    "\n",
    "# Descriptive statistics that summarize the central tendency, dispersion and shape of a dataset’s distribution, \n",
    "# excluding NaN values\n",
    "# Descriptive Statistics involves -> count, unique, top, and freq. \n",
    "# The top is the most common value. The freq is the most common value’s frequency. \n",
    "# Timestamps also include the first and last items.\n",
    "\n",
    "print(sampled_df.count(), \"\\n\")# Count non-NA cells for each column or row\n",
    "print(sampled_df.isna().sum())\n",
    "print(\"\\n\")\n",
    "print(sampled_df.columns.values) # All Columns in the Dataframe\n",
    "print(\"\\n\")"
   ]
  },
  {
   "cell_type": "markdown",
   "metadata": {},
   "source": [
    "# Step 3: Data Modelling"
   ]
  },
  {
   "cell_type": "code",
   "execution_count": 13,
   "metadata": {},
   "outputs": [
    {
     "name": "stdout",
     "output_type": "stream",
     "text": [
      "['joy', 'sad', 'fear', 'neutral', 'anger'] \n",
      "\n",
      "Labels after Integer enoding \n",
      "\n",
      "[0 1 2 3 4]\n"
     ]
    }
   ],
   "source": [
    "# Integer labels for emotion column\n",
    "\n",
    "emotions_list = sampled_df.emotion.unique().tolist()\n",
    "print(emotions_list, \"\\n\")\n",
    "\n",
    "for i in emotions_list:\n",
    "    sampled_df = sampled_df.replace(i, emotions_list.index(i))\n",
    "\n",
    "print(\"Labels after Integer enoding \\n\")\n",
    "print(sampled_df.emotion.unique())"
   ]
  },
  {
   "cell_type": "code",
   "execution_count": 14,
   "metadata": {},
   "outputs": [
    {
     "name": "stdout",
     "output_type": "stream",
     "text": [
      "<class 'pandas.core.frame.DataFrame'>\n",
      "RangeIndex: 228181 entries, 0 to 228180\n",
      "Data columns (total 2 columns):\n",
      "emotion    228181 non-null int64\n",
      "content    228181 non-null object\n",
      "dtypes: int64(1), object(1)\n",
      "memory usage: 3.5+ MB\n",
      "None \n",
      "\n",
      "emotion    228181\n",
      "content    228181\n",
      "dtype: int64 \n",
      "\n",
      "emotion    0\n",
      "content    0\n",
      "dtype: int64\n",
      "\n",
      "\n",
      "['emotion' 'content']\n",
      "\n",
      "\n"
     ]
    }
   ],
   "source": [
    "# Statistical Analysis after Integer encoding\n",
    "\n",
    "print(sampled_df.info(),\"\\n\")\n",
    "\n",
    "# Descriptive statistics that summarize the central tendency, dispersion and shape of a dataset’s distribution, \n",
    "# excluding NaN values\n",
    "# Descriptive Statistics involves -> count, unique, top, and freq. \n",
    "# The top is the most common value. The freq is the most common value’s frequency. \n",
    "# Timestamps also include the first and last items.\n",
    "\n",
    "print(sampled_df.count(), \"\\n\")# Count non-NA cells for each column or row\n",
    "print(sampled_df.isna().sum())\n",
    "print(\"\\n\")\n",
    "print(sampled_df.columns.values) # All Columns in the Dataframe\n",
    "print(\"\\n\")"
   ]
  },
  {
   "cell_type": "code",
   "execution_count": 15,
   "metadata": {},
   "outputs": [
    {
     "name": "stderr",
     "output_type": "stream",
     "text": [
      "Using TensorFlow backend.\n"
     ]
    }
   ],
   "source": [
    "# Feature Engineering\n",
    "\n",
    "from keras.preprocessing.text import Tokenizer\n",
    "from keras.preprocessing.sequence import pad_sequences\n",
    "vocabulary_size = 100000\n",
    "tokenizer = Tokenizer(num_words = vocabulary_size)\n",
    "tokenizer.fit_on_texts(sampled_df['content'])\n",
    "sequences = tokenizer.texts_to_sequences(sampled_df['content'])\n",
    "data = pad_sequences(sequences, maxlen = 50)\n",
    "X = data"
   ]
  },
  {
   "cell_type": "code",
   "execution_count": 16,
   "metadata": {},
   "outputs": [
    {
     "data": {
      "text/plain": [
       "(228181, 50)"
      ]
     },
     "execution_count": 16,
     "metadata": {},
     "output_type": "execute_result"
    }
   ],
   "source": [
    "X.shape"
   ]
  },
  {
   "cell_type": "code",
   "execution_count": 17,
   "metadata": {},
   "outputs": [
    {
     "data": {
      "text/plain": [
       "(228181, 5)"
      ]
     },
     "execution_count": 17,
     "metadata": {},
     "output_type": "execute_result"
    }
   ],
   "source": [
    "# One - hot encoding\n",
    "\n",
    "from keras.utils import to_categorical\n",
    "# print(df['emotion'])\n",
    "Y = to_categorical(sampled_df['emotion'])\n",
    "Y.shape"
   ]
  },
  {
   "cell_type": "code",
   "execution_count": 18,
   "metadata": {},
   "outputs": [
    {
     "data": {
      "text/plain": [
       "(228181, 5)"
      ]
     },
     "execution_count": 18,
     "metadata": {},
     "output_type": "execute_result"
    }
   ],
   "source": [
    "Y.shape"
   ]
  },
  {
   "cell_type": "code",
   "execution_count": 19,
   "metadata": {},
   "outputs": [
    {
     "name": "stdout",
     "output_type": "stream",
     "text": [
      "(182544, 50)\n",
      "(45637, 50)\n",
      "(182544, 5)\n",
      "(45637, 5)\n"
     ]
    }
   ],
   "source": [
    "# Train_test split\n",
    "# from sklearn.model_selection import train_test_split\n",
    "# x_train, x_test, y_train, y_test = train_test_split(X, Y, test_size = 0.2, random_state=4)\n",
    "\n",
    "# np.save('x_train', x_train)\n",
    "# np.save('x_test', x_test)\n",
    "# np.save('y_train', y_train)\n",
    "# np.save('y_test', y_test)\n",
    "\n",
    "x_train = np.load('x_train.npy')\n",
    "x_test = np.load('x_test.npy')\n",
    "y_train = np.load('y_train.npy')\n",
    "y_test = np.load('y_test.npy')\n",
    "print(x_train.shape)\n",
    "print(x_test.shape)\n",
    "print(y_train.shape)\n",
    "print(y_test.shape)"
   ]
  },
  {
   "cell_type": "markdown",
   "metadata": {},
   "source": [
    "# Step 4 : Choosing Model\n",
    "Using word embeddings to create a LSTM classification model"
   ]
  },
  {
   "cell_type": "code",
   "execution_count": 20,
   "metadata": {},
   "outputs": [],
   "source": [
    "from keras.models import Model\n",
    "from keras.layers import LSTM, Activation, Dense, Dropout, Input, Embedding\n",
    "from keras.optimizers import RMSprop\n",
    "from keras.preprocessing.text import Tokenizer\n",
    "from keras.preprocessing import sequence"
   ]
  },
  {
   "cell_type": "code",
   "execution_count": 21,
   "metadata": {},
   "outputs": [
    {
     "name": "stdout",
     "output_type": "stream",
     "text": [
      "_________________________________________________________________\n",
      "Layer (type)                 Output Shape              Param #   \n",
      "=================================================================\n",
      "input_1 (InputLayer)         (None, 50)                0         \n",
      "_________________________________________________________________\n",
      "embedding_1 (Embedding)      (None, 50, 500)           50000000  \n",
      "_________________________________________________________________\n",
      "lstm_1 (LSTM)                (None, 1000)              6004000   \n",
      "_________________________________________________________________\n",
      "dense_1 (Dense)              (None, 256)               256256    \n",
      "_________________________________________________________________\n",
      "activation_1 (Activation)    (None, 256)               0         \n",
      "_________________________________________________________________\n",
      "dropout_1 (Dropout)          (None, 256)               0         \n",
      "_________________________________________________________________\n",
      "dense_2 (Dense)              (None, 5)                 1285      \n",
      "_________________________________________________________________\n",
      "activation_2 (Activation)    (None, 5)                 0         \n",
      "=================================================================\n",
      "Total params: 56,261,541\n",
      "Trainable params: 56,261,541\n",
      "Non-trainable params: 0\n",
      "_________________________________________________________________\n"
     ]
    }
   ],
   "source": [
    "x_train = x_train.reshape(len(x_train), 50)\n",
    "inputs = Input(shape=[50])\n",
    "layer = Embedding(100000,500,input_length=50)(inputs)\n",
    "layer = LSTM(1000)(layer)\n",
    "layer = Dense(256)(layer)\n",
    "layer = Activation('relu')(layer)\n",
    "layer = Dropout(0.5)(layer)\n",
    "layer = Dense(5)(layer)\n",
    "layer = Activation('softmax')(layer)\n",
    "model = Model(inputs = inputs,outputs = layer)\n",
    "model.summary()"
   ]
  },
  {
   "cell_type": "code",
   "execution_count": 22,
   "metadata": {},
   "outputs": [],
   "source": [
    "# Compiling the model\n",
    "\n",
    "model.compile(loss = 'categorical_crossentropy',optimizer = \"adam\",metrics = ['accuracy'])\n",
    "\n",
    "from keras import callbacks\n",
    "tensorboard = callbacks.TensorBoard(log_dir = './logs', histogram_freq = 0, batch_size = 16, write_grads = True , write_graph = True)\n",
    "model_checkpoints = callbacks.ModelCheckpoint(\"checkpoint-{val_loss:.3f}.h5\", monitor = 'val_loss', verbose = 0, save_best_only = True, save_weights_only = False, mode = 'auto', period = 0)"
   ]
  },
  {
   "cell_type": "code",
   "execution_count": 23,
   "metadata": {},
   "outputs": [
    {
     "data": {
      "image/svg+xml": [
       "<svg height=\"556pt\" viewBox=\"0.00 0.00 169.00 556.00\" width=\"169pt\" xmlns=\"http://www.w3.org/2000/svg\" xmlns:xlink=\"http://www.w3.org/1999/xlink\">\n",
       "<g class=\"graph\" id=\"graph0\" transform=\"scale(1 1) rotate(0) translate(4 552)\">\n",
       "<title>G</title>\n",
       "<polygon fill=\"white\" points=\"-4,4 -4,-552 165,-552 165,4 -4,4\" stroke=\"none\"/>\n",
       "<!-- 139707235104304 -->\n",
       "<g class=\"node\" id=\"node1\"><title>139707235104304</title>\n",
       "<polygon fill=\"none\" points=\"18,-511.5 18,-547.5 143,-547.5 143,-511.5 18,-511.5\" stroke=\"black\"/>\n",
       "<text font-family=\"Times,serif\" font-size=\"14.00\" text-anchor=\"middle\" x=\"80.5\" y=\"-525.8\">input_1: InputLayer</text>\n",
       "</g>\n",
       "<!-- 139707235104080 -->\n",
       "<g class=\"node\" id=\"node2\"><title>139707235104080</title>\n",
       "<polygon fill=\"none\" points=\"0,-438.5 0,-474.5 161,-474.5 161,-438.5 0,-438.5\" stroke=\"black\"/>\n",
       "<text font-family=\"Times,serif\" font-size=\"14.00\" text-anchor=\"middle\" x=\"80.5\" y=\"-452.8\">embedding_1: Embedding</text>\n",
       "</g>\n",
       "<!-- 139707235104304&#45;&gt;139707235104080 -->\n",
       "<g class=\"edge\" id=\"edge1\"><title>139707235104304-&gt;139707235104080</title>\n",
       "<path d=\"M80.5,-511.313C80.5,-503.289 80.5,-493.547 80.5,-484.569\" fill=\"none\" stroke=\"black\"/>\n",
       "<polygon fill=\"black\" points=\"84.0001,-484.529 80.5,-474.529 77.0001,-484.529 84.0001,-484.529\" stroke=\"black\"/>\n",
       "</g>\n",
       "<!-- 139706893271504 -->\n",
       "<g class=\"node\" id=\"node3\"><title>139706893271504</title>\n",
       "<polygon fill=\"none\" points=\"31.5,-365.5 31.5,-401.5 129.5,-401.5 129.5,-365.5 31.5,-365.5\" stroke=\"black\"/>\n",
       "<text font-family=\"Times,serif\" font-size=\"14.00\" text-anchor=\"middle\" x=\"80.5\" y=\"-379.8\">lstm_1: LSTM</text>\n",
       "</g>\n",
       "<!-- 139707235104080&#45;&gt;139706893271504 -->\n",
       "<g class=\"edge\" id=\"edge2\"><title>139707235104080-&gt;139706893271504</title>\n",
       "<path d=\"M80.5,-438.313C80.5,-430.289 80.5,-420.547 80.5,-411.569\" fill=\"none\" stroke=\"black\"/>\n",
       "<polygon fill=\"black\" points=\"84.0001,-411.529 80.5,-401.529 77.0001,-411.529 84.0001,-411.529\" stroke=\"black\"/>\n",
       "</g>\n",
       "<!-- 139706893271392 -->\n",
       "<g class=\"node\" id=\"node4\"><title>139706893271392</title>\n",
       "<polygon fill=\"none\" points=\"29.5,-292.5 29.5,-328.5 131.5,-328.5 131.5,-292.5 29.5,-292.5\" stroke=\"black\"/>\n",
       "<text font-family=\"Times,serif\" font-size=\"14.00\" text-anchor=\"middle\" x=\"80.5\" y=\"-306.8\">dense_1: Dense</text>\n",
       "</g>\n",
       "<!-- 139706893271504&#45;&gt;139706893271392 -->\n",
       "<g class=\"edge\" id=\"edge3\"><title>139706893271504-&gt;139706893271392</title>\n",
       "<path d=\"M80.5,-365.313C80.5,-357.289 80.5,-347.547 80.5,-338.569\" fill=\"none\" stroke=\"black\"/>\n",
       "<polygon fill=\"black\" points=\"84.0001,-338.529 80.5,-328.529 77.0001,-338.529 84.0001,-338.529\" stroke=\"black\"/>\n",
       "</g>\n",
       "<!-- 139706889407176 -->\n",
       "<g class=\"node\" id=\"node5\"><title>139706889407176</title>\n",
       "<polygon fill=\"none\" points=\"6.5,-219.5 6.5,-255.5 154.5,-255.5 154.5,-219.5 6.5,-219.5\" stroke=\"black\"/>\n",
       "<text font-family=\"Times,serif\" font-size=\"14.00\" text-anchor=\"middle\" x=\"80.5\" y=\"-233.8\">activation_1: Activation</text>\n",
       "</g>\n",
       "<!-- 139706893271392&#45;&gt;139706889407176 -->\n",
       "<g class=\"edge\" id=\"edge4\"><title>139706893271392-&gt;139706889407176</title>\n",
       "<path d=\"M80.5,-292.313C80.5,-284.289 80.5,-274.547 80.5,-265.569\" fill=\"none\" stroke=\"black\"/>\n",
       "<polygon fill=\"black\" points=\"84.0001,-265.529 80.5,-255.529 77.0001,-265.529 84.0001,-265.529\" stroke=\"black\"/>\n",
       "</g>\n",
       "<!-- 139706769369968 -->\n",
       "<g class=\"node\" id=\"node6\"><title>139706769369968</title>\n",
       "<polygon fill=\"none\" points=\"18,-146.5 18,-182.5 143,-182.5 143,-146.5 18,-146.5\" stroke=\"black\"/>\n",
       "<text font-family=\"Times,serif\" font-size=\"14.00\" text-anchor=\"middle\" x=\"80.5\" y=\"-160.8\">dropout_1: Dropout</text>\n",
       "</g>\n",
       "<!-- 139706889407176&#45;&gt;139706769369968 -->\n",
       "<g class=\"edge\" id=\"edge5\"><title>139706889407176-&gt;139706769369968</title>\n",
       "<path d=\"M80.5,-219.313C80.5,-211.289 80.5,-201.547 80.5,-192.569\" fill=\"none\" stroke=\"black\"/>\n",
       "<polygon fill=\"black\" points=\"84.0001,-192.529 80.5,-182.529 77.0001,-192.529 84.0001,-192.529\" stroke=\"black\"/>\n",
       "</g>\n",
       "<!-- 139706769368792 -->\n",
       "<g class=\"node\" id=\"node7\"><title>139706769368792</title>\n",
       "<polygon fill=\"none\" points=\"29.5,-73.5 29.5,-109.5 131.5,-109.5 131.5,-73.5 29.5,-73.5\" stroke=\"black\"/>\n",
       "<text font-family=\"Times,serif\" font-size=\"14.00\" text-anchor=\"middle\" x=\"80.5\" y=\"-87.8\">dense_2: Dense</text>\n",
       "</g>\n",
       "<!-- 139706769369968&#45;&gt;139706769368792 -->\n",
       "<g class=\"edge\" id=\"edge6\"><title>139706769369968-&gt;139706769368792</title>\n",
       "<path d=\"M80.5,-146.313C80.5,-138.289 80.5,-128.547 80.5,-119.569\" fill=\"none\" stroke=\"black\"/>\n",
       "<polygon fill=\"black\" points=\"84.0001,-119.529 80.5,-109.529 77.0001,-119.529 84.0001,-119.529\" stroke=\"black\"/>\n",
       "</g>\n",
       "<!-- 139706769490944 -->\n",
       "<g class=\"node\" id=\"node8\"><title>139706769490944</title>\n",
       "<polygon fill=\"none\" points=\"6.5,-0.5 6.5,-36.5 154.5,-36.5 154.5,-0.5 6.5,-0.5\" stroke=\"black\"/>\n",
       "<text font-family=\"Times,serif\" font-size=\"14.00\" text-anchor=\"middle\" x=\"80.5\" y=\"-14.8\">activation_2: Activation</text>\n",
       "</g>\n",
       "<!-- 139706769368792&#45;&gt;139706769490944 -->\n",
       "<g class=\"edge\" id=\"edge7\"><title>139706769368792-&gt;139706769490944</title>\n",
       "<path d=\"M80.5,-73.3129C80.5,-65.2895 80.5,-55.5475 80.5,-46.5691\" fill=\"none\" stroke=\"black\"/>\n",
       "<polygon fill=\"black\" points=\"84.0001,-46.5288 80.5,-36.5288 77.0001,-46.5289 84.0001,-46.5288\" stroke=\"black\"/>\n",
       "</g>\n",
       "</g>\n",
       "</svg>"
      ],
      "text/plain": [
       "<IPython.core.display.SVG object>"
      ]
     },
     "execution_count": 23,
     "metadata": {},
     "output_type": "execute_result"
    }
   ],
   "source": [
    "# Model Visualization\n",
    "\n",
    "from IPython.display import SVG\n",
    "from keras.utils.vis_utils import model_to_dot, plot_model\n",
    "\n",
    "plot_model(model, to_file='model.png', show_shapes=True, show_layer_names=True)\n",
    "SVG(model_to_dot(model).create(prog='dot', format='svg'))"
   ]
  },
  {
   "cell_type": "markdown",
   "metadata": {},
   "source": [
    "# Step 5 : Training"
   ]
  },
  {
   "cell_type": "code",
   "execution_count": 48,
   "metadata": {
    "scrolled": true
   },
   "outputs": [
    {
     "name": "stdout",
     "output_type": "stream",
     "text": [
      "Train on 73017 samples, validate on 109527 samples\n",
      "Epoch 1/2\n",
      "73017/73017 [==============================] - 2186s 30ms/step - loss: 0.5862 - acc: 0.7788 - val_loss: 0.1173 - val_acc: 0.9620\n",
      "Epoch 2/2\n",
      "73017/73017 [==============================] - 2158s 30ms/step - loss: 0.0972 - acc: 0.9684 - val_loss: 0.1077 - val_acc: 0.9665\n"
     ]
    }
   ],
   "source": [
    "# Start Training\n",
    "\n",
    "# history = model.fit(x_train,y_train,batch_size = 256,epochs = 2, validation_split = 0.6, shuffle = True)"
   ]
  },
  {
   "cell_type": "code",
   "execution_count": 50,
   "metadata": {},
   "outputs": [],
   "source": [
    "# Load a model from a particular checkpoint\n",
    "# model = keras.models.load_model(\"checkpoint-0.91.h5\")"
   ]
  },
  {
   "cell_type": "code",
   "execution_count": 51,
   "metadata": {},
   "outputs": [],
   "source": [
    "# Saving model training and history\n",
    "\n",
    "# model.save(\"master_model.h5\") # saving model\n",
    "\n",
    "# import pickle\n",
    "# with open('trainHistoryDict', 'wb') as file_pi:\n",
    "#     pickle.dump(history.history, file_pi) # Saving History of model"
   ]
  },
  {
   "cell_type": "markdown",
   "metadata": {},
   "source": [
    "# Step 6 : Evaluation\n",
    "\n",
    "We calulate conusion matrix, precison, recall and f1_score for every class and final accuracy"
   ]
  },
  {
   "cell_type": "code",
   "execution_count": 24,
   "metadata": {},
   "outputs": [],
   "source": [
    "# Reading the assets\n",
    "\n",
    "from keras.models import load_model\n",
    "model = load_model('master_model.h5') # Reading the Trained model\n",
    "\n",
    "import pickle\n",
    "with open('trainHistoryDict', 'rb') as file_pi:\n",
    "    model_history = pickle.load(file_pi) # Reading the history of the Trained model\n"
   ]
  },
  {
   "cell_type": "code",
   "execution_count": 22,
   "metadata": {},
   "outputs": [
    {
     "name": "stdout",
     "output_type": "stream",
     "text": [
      "182544/182544 [==============================] - 1737s 10ms/step\n",
      "0.09219031569288713 0.9704180909808047\n",
      "45637/45637 [==============================] - 440s 10ms/step\n",
      "0.11121363455586625 0.9646120472423692\n"
     ]
    }
   ],
   "source": [
    "# Keras evaluation\n",
    "\n",
    "# train_loss, train_acc = model.evaluate(x_train, y_train)\n",
    "# train_loss = train_loss\n",
    "# train_acc = train_acc\n",
    "# print(train_loss, train_acc)\n",
    "\n",
    "# test_loss, test_acc = model.evaluate(x_test, y_test)\n",
    "# test_loss = test_loss\n",
    "# test_acc = test_acc\n",
    "# print(test_loss, test_acc)"
   ]
  },
  {
   "cell_type": "code",
   "execution_count": 25,
   "metadata": {},
   "outputs": [
    {
     "name": "stdout",
     "output_type": "stream",
     "text": [
      "(182544, 50)\n",
      "(45637, 50)\n",
      "(182544, 5)\n",
      "(45637, 5)\n"
     ]
    }
   ],
   "source": [
    "# Saving our Predictions\n",
    "\n",
    "# np.save('train_Y_cat', train_Y_cat)\n",
    "# np.save('pred_Y_tr_cat',pred_Y_tr_cat)\n",
    "# np.save('test_Y_cat', test_Y_cat)\n",
    "# np.save('pred_Y_cat', pred_Y_cat)\n",
    "\n",
    "train_Y_cat = np.load('train_Y_cat.npy')\n",
    "pred_Y_tr_cat = np.load('pred_Y_tr_cat.npy')\n",
    "test_Y_cat = np.load('test_Y_cat.npy')\n",
    "pred_Y_cat = np.load('pred_Y_cat.npy')\n",
    "print(x_train.shape)\n",
    "print(x_test.shape)\n",
    "print(y_train.shape)\n",
    "print(y_test.shape)"
   ]
  },
  {
   "cell_type": "code",
   "execution_count": 24,
   "metadata": {},
   "outputs": [
    {
     "data": {
      "image/png": "[encoded data removed]",
      "text/plain": [
       "<Figure size 432x288 with 1 Axes>"
      ]
     },
     "metadata": {
      "needs_background": "light"
     },
     "output_type": "display_data"
    },
    {
     "data": {
      "image/png": "[encoded data removed]",
      "text/plain": [
       "<Figure size 432x288 with 1 Axes>"
      ]
     },
     "metadata": {
      "needs_background": "light"
     },
     "output_type": "display_data"
    },
    {
     "data": {
      "text/plain": [
       "<Figure size 432x288 with 0 Axes>"
      ]
     },
     "metadata": {},
     "output_type": "display_data"
    }
   ],
   "source": [
    "# Plots\n",
    "\n",
    "import matplotlib.pyplot as plt\n",
    "\n",
    "# summarize history for accuracy\n",
    "plt.plot(model_history['acc'])\n",
    "plt.plot(model_history['val_acc'])\n",
    "plt.title('model accuracy')\n",
    "plt.ylabel('accuracy')\n",
    "plt.xlabel('epoch')\n",
    "plt.legend(['train', 'test'], loc='upper left')\n",
    "plt.show()\n",
    "plt.savefig('model_accuracy.png')\n",
    "\n",
    "# summarize history for loss\n",
    "plt.plot(model_history['loss'])\n",
    "plt.plot(model_history['val_loss'])\n",
    "plt.title('model loss')\n",
    "plt.ylabel('loss')\n",
    "plt.xlabel('epoch')\n",
    "plt.legend(['train', 'test'], loc='upper left')\n",
    "plt.show()\n",
    "plt.savefig('model_loss.png')"
   ]
  },
  {
   "cell_type": "code",
   "execution_count": 26,
   "metadata": {},
   "outputs": [
    {
     "name": "stdout",
     "output_type": "stream",
     "text": [
      "Accuracy on Train Data: 0.97%\n",
      "Accuracy on Test Data: 0.96%\n",
      "              precision    recall  f1-score   support\n",
      "\n",
      "           0       0.98      0.97      0.98     10008\n",
      "           1       0.99      0.97      0.98      9848\n",
      "           2       0.99      0.92      0.95      6984\n",
      "           3       0.90      0.98      0.94      9217\n",
      "           4       0.97      0.96      0.97      9580\n",
      "\n",
      "   micro avg       0.96      0.96      0.96     45637\n",
      "   macro avg       0.97      0.96      0.96     45637\n",
      "weighted avg       0.97      0.96      0.96     45637\n",
      "\n"
     ]
    }
   ],
   "source": [
    "# Classification Report\n",
    "\n",
    "from sklearn.metrics import accuracy_score, classification_report, confusion_matrix\n",
    "\n",
    "# pred_Y_tr = model.predict(x_train,batch_size = None, verbose = True)\n",
    "# pred_Y_tr_cat = np.argmax(pred_Y_tr, -1)\n",
    "# train_Y_cat = np.argmax(y_train, -1)\n",
    "\n",
    "# print(pred_Y_tr_cat, train_Y_cat)\n",
    "\n",
    "# pred_Y = model.predict(x_test, batch_size = None, verbose = True)\n",
    "# pred_Y_cat = np.argmax(pred_Y, -1)\n",
    "# test_Y_cat = np.argmax(y_test, -1)\n",
    "\n",
    "# print(pred_Y_cat, test_Y_cat)\n",
    "\n",
    "cnf_matrix_train_data = confusion_matrix(train_Y_cat, pred_Y_tr_cat)\n",
    "cnf_matrix_test_data = confusion_matrix(test_Y_cat, pred_Y_cat)\n",
    "\n",
    "print('Accuracy on Train Data: %2.2f%%' % (accuracy_score(train_Y_cat, pred_Y_tr_cat)))\n",
    "print('Accuracy on Test Data: %2.2f%%' % (accuracy_score(test_Y_cat, pred_Y_cat)))\n",
    "print(classification_report(test_Y_cat, pred_Y_cat))"
   ]
  },
  {
   "cell_type": "code",
   "execution_count": 27,
   "metadata": {},
   "outputs": [
    {
     "data": {
      "text/plain": [
       "<matplotlib.axes._subplots.AxesSubplot at 0x7f0ff618f400>"
      ]
     },
     "execution_count": 27,
     "metadata": {},
     "output_type": "execute_result"
    },
    {
     "data": {
      "image/png": "[encoded data removed]",
      "text/plain": [
       "<Figure size 432x288 with 2 Axes>"
      ]
     },
     "metadata": {
      "needs_background": "light"
     },
     "output_type": "display_data"
    },
    {
     "data": {
      "image/png": "[encoded data removed]",
      "text/plain": [
       "<Figure size 432x288 with 2 Axes>"
      ]
     },
     "metadata": {
      "needs_background": "light"
     },
     "output_type": "display_data"
    }
   ],
   "source": [
    "# Plotting Confusion Matrix\n",
    "\n",
    "from sklearn.metrics import confusion_matrix\n",
    "from sklearn.utils.multiclass import unique_labels\n",
    "\n",
    "digits = unique_labels(test_Y_cat, pred_Y_cat).tolist()\n",
    "\n",
    "cnf_matrix_train = confusion_matrix(train_Y_cat, pred_Y_tr_cat, labels = digits)\n",
    "cnf_matrix_test = confusion_matrix(test_Y_cat, pred_Y_cat, labels = digits)\n",
    "\n",
    "def plot_confusion_matrix(confusion_matrix, classes, normalize = False, title = None, cmap = plt.cm.Blues):\n",
    "    \"\"\"\n",
    "    This function prints and plots the confusion matrix.\n",
    "    Normalization can be applied by setting `normalize=True`.\n",
    "    \"\"\"\n",
    "    if not title:\n",
    "        if normalize:\n",
    "            title = 'Normalized confusion matrix'\n",
    "        else:\n",
    "            title = 'Confusion matrix, without normalization'\n",
    "\n",
    "    # Compute confusion matrix\n",
    "    cm = confusion_matrix\n",
    "    # Only use the labels that appear in the data\n",
    "    if normalize:\n",
    "        cm = cm.astype('float') / cm.sum(axis=1)[:, np.newaxis]\n",
    "\n",
    "    fig, ax = plt.subplots()\n",
    "    im = ax.imshow(cm, interpolation='nearest', cmap=cmap)\n",
    "    ax.figure.colorbar(im, ax=ax)\n",
    "    # We want to show all ticks...\n",
    "    ax.set(xticks = np.arange(cm.shape[1]),\n",
    "           yticks = np.arange(cm.shape[0]),\n",
    "           # ... and label them with the respective list entries\n",
    "           xticklabels=classes, yticklabels=classes,\n",
    "           title=title,\n",
    "           ylabel = 'True label',\n",
    "           xlabel = 'Predicted label')\n",
    "\n",
    "    # Rotate the tick labels and set their alignment.\n",
    "    plt.setp(ax.get_xticklabels(), rotation=45, ha=\"right\",\n",
    "             rotation_mode=\"anchor\")\n",
    "\n",
    "    # Loop over data dimensions and create text annotations.\n",
    "    fmt = '.2f' if normalize else 'd'\n",
    "    thresh = cm.max() / 2.\n",
    "    for i in range(cm.shape[0]):\n",
    "        for j in range(cm.shape[1]):\n",
    "            ax.text(j, i, format(cm[i, j], fmt),\n",
    "                    ha=\"center\", va=\"center\",\n",
    "                    color=\"white\" if cm[i, j] > thresh else \"black\")\n",
    "    fig.tight_layout()\n",
    "    return ax\n",
    "\n",
    "\n",
    "np.set_printoptions(precision=2)\n",
    "\n",
    "# Plot non-normalized confusion matrix\n",
    "plot_confusion_matrix(cnf_matrix_train, classes = digits, title = 'Confusion matrix for Train Data')\n",
    "\n",
    "# # Plot normalized confusion matrix\n",
    "plot_confusion_matrix(cnf_matrix_test, classes = digits, title='Confusion matrix for Test Data')\n",
    "\n",
    "# precision = true_pos / (true_pos + false_pos)\n",
    "# recall = true_pos / (true_pos + false_neg)"
   ]
  },
  {
   "cell_type": "markdown",
   "metadata": {},
   "source": [
    "# Step 7 : Prediction"
   ]
  },
  {
   "cell_type": "code",
   "execution_count": 28,
   "metadata": {},
   "outputs": [
    {
     "name": "stdout",
     "output_type": "stream",
     "text": [
      "neutral\n"
     ]
    }
   ],
   "source": [
    "statement = [\"I envy you\"]\n",
    "# statement = [sampled_df['content'][228162]] # 0 to 228180\n",
    "sequences = tokenizer.texts_to_sequences(statement)\n",
    "data = pad_sequences(sequences, maxlen=50)\n",
    "y = model.predict(data)\n",
    "# print(y)\n",
    "argument = np.argmax(y[0], axis=0)\n",
    "print(emotions_list[argument])"
   ]
  },
  {
   "cell_type": "markdown",
   "metadata": {},
   "source": [
    "# Feedbacks"
   ]
  },
  {
   "cell_type": "code",
   "execution_count": null,
   "metadata": {},
   "outputs": [],
   "source": []
  },
  {
   "cell_type": "code",
   "execution_count": null,
   "metadata": {},
   "outputs": [],
   "source": []
  },
  {
   "cell_type": "code",
   "execution_count": null,
   "metadata": {},
   "outputs": [],
   "source": []
  }
 ],
 "metadata": {
  "kernelspec": {
   "display_name": "virtualenv",
   "language": "python",
   "name": "virtualenv"
  },
  "language_info": {
   "codemirror_mode": {
    "name": "ipython",
    "version": 3
   },
   "file_extension": ".py",
   "mimetype": "text/x-python",
   "name": "python",
   "nbconvert_exporter": "python",
   "pygments_lexer": "ipython3",
   "version": "3.5.5"
  }
 },
 "nbformat": 4,
 "nbformat_minor": 2
}
